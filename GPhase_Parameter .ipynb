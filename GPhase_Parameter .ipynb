{
 "metadata": {
  "name": ""
 },
 "nbformat": 3,
 "nbformat_minor": 0,
 "worksheets": [
  {
   "cells": [
    {
     "cell_type": "code",
     "collapsed": false,
     "input": [
      "import math"
     ],
     "language": "python",
     "metadata": {},
     "outputs": [],
     "prompt_number": 25
    },
    {
     "cell_type": "heading",
     "level": 3,
     "metadata": {},
     "source": [
      "$t$ and $w$ values for two quadrature points"
     ]
    },
    {
     "cell_type": "code",
     "collapsed": false,
     "input": [
      "TIMES = [0.58578643,3.41421356]                          # time t drawn from exponential distribution with rate parameter 1\n",
      "WEIGHTS = [0.85355339,0.1464466]"
     ],
     "language": "python",
     "metadata": {},
     "outputs": [],
     "prompt_number": 26
    },
    {
     "cell_type": "heading",
     "level": 3,
     "metadata": {},
     "source": [
      "Poisson Distribution \n",
      "$P\\left( x \\right) = \\frac{{e^{ - \\lambda } \\lambda ^x }}{{x!}}$\n"
     ]
    },
    {
     "cell_type": "code",
     "collapsed": false,
     "input": [
      "def poisson_probability(actual, mean):\n",
      "    # naive:   math.exp(-mean) * mean**actual / factorial(actual)\n",
      "\n",
      "    # iterative, to keep the components from getting too large or small:\n",
      "    p = math.exp(-mean)\n",
      "    for i in xrange(actual):\n",
      "        p *= mean\n",
      "        p /= i+1\n",
      "    return p"
     ],
     "language": "python",
     "metadata": {},
     "outputs": [],
     "prompt_number": 27
    },
    {
     "cell_type": "heading",
     "level": 4,
     "metadata": {},
     "source": [
      "Compute : \n",
      "$\n",
      "F_{\\alpha(i)h(i)}^{\\left(\\theta,t,n\\right)} =\n",
      "\\sum_{m=0}^{\\infty}\\frac{\\left(\\theta t/n\\right)^m}{m!}\\exp\\left(- \\frac{\\theta\n",
      "\tt}{n}\\right)\\left(P^m\\right)_{\\alpha(i)h(i)}$\n",
      " \n"
     ]
    },
    {
     "cell_type": "code",
     "collapsed": false,
     "input": [
      "def probAlphaiBetai(lamda,oddEven):\n",
      "    proMutSingPos = []\n",
      "    if oddEven % 2 == 1:\n",
      "            for m in range(1, 50, 2):                                    #run for odd value of m \n",
      "                proMutSingPos.append(poisson_probability(m,lamda))        #list appending poission probabilities \n",
      "    else:   \n",
      "            for m in range(0, 50, 2):                                    #run for even value of m \n",
      "                proMutSingPos.append(poisson_probability(m,lamda))        #list appending poission probabilities\n",
      "    return sum(proMutSingPos)"
     ],
     "language": "python",
     "metadata": {},
     "outputs": [],
     "prompt_number": 28
    },
    {
     "cell_type": "code",
     "collapsed": false,
     "input": [
      "def prob(numberIndividual):\n",
      "    theta = 1/math.log(2*numberIndividual)                   #theta = 1/log(2n)\n",
      "    lamda1 = (theta * TIMES[0])/numberIndividual\n",
      "    lamda2 = (theta * TIMES[1])/numberIndividual\n",
      "    F00L1 = F11L1 = probAlphaiBetai(lamda1,2)\n",
      "    F01L1 = F10L1 = probAlphaiBetai(lamda1,1)\n",
      "    F00L2 = F11L2 = probAlphaiBetai(lamda2,2)\n",
      "    F01L2 = F10L2 = probAlphaiBetai(lamda2,1)\n",
      "    return 'FOOL1:',F00L1, 'F01L1:',F01L1,'F00L2:', F00L2, 'F01L2:',F01L2"
     ],
     "language": "python",
     "metadata": {},
     "outputs": [],
     "prompt_number": 23
    },
    {
     "cell_type": "code",
     "collapsed": false,
     "input": [
      "prob(2000)"
     ],
     "language": "python",
     "metadata": {},
     "outputs": [
      {
       "metadata": {},
       "output_type": "pyout",
       "prompt_number": 24,
       "text": [
        "('FOOL1:',\n",
        " 0.9999646875911259,\n",
        " 'F01L1:',\n",
        " 3.531240887409081e-05,\n",
        " 'F00L2:',\n",
        " 0.9997942192848723,\n",
        " 'F01L2:',\n",
        " 0.00020578071512770027)"
       ]
      }
     ],
     "prompt_number": 24
    },
    {
     "cell_type": "code",
     "collapsed": false,
     "input": [],
     "language": "python",
     "metadata": {},
     "outputs": []
    }
   ],
   "metadata": {}
  }
 ]
}